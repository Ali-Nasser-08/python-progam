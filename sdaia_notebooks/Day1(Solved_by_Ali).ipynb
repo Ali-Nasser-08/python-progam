{
  "cells": [
    {
      "cell_type": "markdown",
      "id": "Cp-wZ_mDaIz4",
      "metadata": {
        "id": "Cp-wZ_mDaIz4"
      },
      "source": [
        "# Day 1 Exercises (Inclusive of applied project, and intro exercises)\n"
      ]
    },
    {
      "cell_type": "markdown",
      "id": "5oQCNXrfaY-c",
      "metadata": {
        "id": "5oQCNXrfaY-c"
      },
      "source": [
        "## Solved by Ali Alghamdi (okayloy@gmail.com)"
      ]
    },
    {
      "cell_type": "markdown",
      "id": "DTmtnsuQjKyn",
      "metadata": {
        "id": "DTmtnsuQjKyn"
      },
      "source": []
    },
    {
      "cell_type": "markdown",
      "id": "7afdc06d",
      "metadata": {
        "id": "7afdc06d"
      },
      "source": [
        "# Python Exercises\n",
        "These exercises are designed to practice loops, conditionals, and basic data structures."
      ]
    },
    {
      "cell_type": "markdown",
      "id": "bb037130",
      "metadata": {
        "id": "bb037130"
      },
      "source": [
        "### Exercise 1 — Extract even numbers\n",
        "Given a list of integers, create a **new list** containing only the even numbers. Print the result."
      ]
    },
    {
      "cell_type": "code",
      "execution_count": 1,
      "id": "fb3ac152",
      "metadata": {
        "colab": {
          "base_uri": "https://localhost:8080/",
          "height": 0
        },
        "id": "fb3ac152",
        "outputId": "d3462b08-a46f-4b4b-8588-4f1746d66b6e"
      },
      "outputs": [
        {
          "name": "stdout",
          "output_type": "stream",
          "text": [
            "[22, 44, 60]\n"
          ]
        }
      ],
      "source": [
        "# Your solution here\n",
        "\n",
        "nums = [11, 22, 33, 44, 55, 60]\n",
        "only_evens = []\n",
        "for element in nums:\n",
        "   if element % 2 == 0:\n",
        "      only_evens.append(element)\n",
        "\n",
        "print(only_evens)  # [22, 44, 60]"
      ]
    },
    {
      "cell_type": "markdown",
      "id": "f97be2fe",
      "metadata": {
        "id": "f97be2fe"
      },
      "source": [
        "### Exercise 2 — Squares divisible by 3\n",
        "Create a list of squares for numbers from 1 to 20 **only if** the number is divisible by 3."
      ]
    },
    {
      "cell_type": "code",
      "execution_count": 2,
      "id": "a10528b6",
      "metadata": {
        "colab": {
          "base_uri": "https://localhost:8080/",
          "height": 0
        },
        "id": "a10528b6",
        "outputId": "b71814db-2dc6-471f-edd2-828c8dcac5a8"
      },
      "outputs": [
        {
          "name": "stdout",
          "output_type": "stream",
          "text": [
            "[9, 36, 81, 144, 225, 324]\n"
          ]
        }
      ],
      "source": [
        "# Your solution here\n",
        "\n",
        "squares = []\n",
        "for i in range(1, 21):\n",
        "    if i % 3 == 0:\n",
        "        squares.append(i*i)\n",
        "print(squares)  # [9, 36, 81, 144, 225, 324]"
      ]
    },
    {
      "cell_type": "markdown",
      "id": "13a55e9a",
      "metadata": {
        "id": "13a55e9a"
      },
      "source": [
        "### Exercise 3 — Capitalize first letter of each word\n",
        "Given a sentence, capitalize **only** the first character of each word and keep the rest as is."
      ]
    },
    {
      "cell_type": "code",
      "execution_count": 3,
      "id": "cc7a864b",
      "metadata": {
        "colab": {
          "base_uri": "https://localhost:8080/",
          "height": 0
        },
        "id": "cc7a864b",
        "outputId": "d2b7283c-7fce-434b-a34b-f2d22ad3bd47"
      },
      "outputs": [
        {
          "name": "stdout",
          "output_type": "stream",
          "text": [
            "Python Is AWESOME\n"
          ]
        }
      ],
      "source": [
        "# Your solution here\n",
        "\n",
        "sentence = \"python is AWESOME\"\n",
        "# Expected: \"Python Is AWESOME\"\n",
        "result = ''\n",
        "result = sentence.title()\n",
        "aweomse_part = sentence[-7:].upper()\n",
        "result = result[:-7]+aweomse_part\n",
        "print(result)"
      ]
    },
    {
      "cell_type": "markdown",
      "id": "bf4f44be",
      "metadata": {
        "id": "bf4f44be"
      },
      "source": [
        "### Exercise 4 — Anagram of \"listen\"\n",
        "Write a function `is_anagram_of_listen(s)` that returns `True` if `s` is an anagram of the word **\"listen\"**. Ignore spaces and case.\n",
        "\n",
        "Note: Anagram is another word that contain the same letters, for example: \"llHeo\" is an anagram of \"Hello\""
      ]
    },
    {
      "cell_type": "code",
      "execution_count": 4,
      "id": "d33c59b7",
      "metadata": {
        "colab": {
          "base_uri": "https://localhost:8080/",
          "height": 0
        },
        "id": "d33c59b7",
        "outputId": "ae07a8e9-dd45-4376-f5af-26c76e133aef"
      },
      "outputs": [
        {
          "name": "stdout",
          "output_type": "stream",
          "text": [
            "True\n",
            "True\n",
            "True\n",
            "False\n"
          ]
        }
      ],
      "source": [
        "# Your solution here\n",
        "\n",
        "def is_anagram_of_listen(s):\n",
        "    if sorted(s.replace(\" \", \"\").lower()) == sorted(\"listen\"):\n",
        "      return True\n",
        "    return False\n",
        "\n",
        "print(is_anagram_of_listen(\"Silent\"))     # True\n",
        "print(is_anagram_of_listen(\"Listen \"))    # True\n",
        "print(is_anagram_of_listen(\"Tinsel\"))     # True\n",
        "print(is_anagram_of_listen(\"Stone\"))      # False"
      ]
    },
    {
      "cell_type": "markdown",
      "id": "45a5e659",
      "metadata": {
        "id": "45a5e659"
      },
      "source": [
        "### Exercise 5 — Numbers divisible by 8 but not by 6\n",
        "Create a list of numbers between **50 and 500** (inclusive) that are divisible by **8** but **not** by **6** using a loop. Then print them in a **comma-separated** sequence on a single line."
      ]
    },
    {
      "cell_type": "code",
      "execution_count": 5,
      "id": "5528a95d",
      "metadata": {
        "colab": {
          "base_uri": "https://localhost:8080/",
          "height": 0
        },
        "id": "5528a95d",
        "outputId": "f75f9f47-cd36-4e07-8185-91ede25c9a7b"
      },
      "outputs": [
        {
          "name": "stdout",
          "output_type": "stream",
          "text": [
            "[56, 64, 80, 88, 104, 112, 128, 136, 152, 160, 176, 184, 200, 208, 224, 232, 248, 256, 272, 280, 296, 304, 320, 328, 344, 352, 368, 376, 392, 400, 416, 424, 440, 448, 464, 472, 488, 496]\n"
          ]
        }
      ],
      "source": [
        "# Your solution here\n",
        "\n",
        "nums = []\n",
        "for i in range (50, 501):\n",
        "    if i % 8 == 0:\n",
        "        if i % 6 != 0:\n",
        "            nums.append(i)\n",
        "\n",
        "print(nums)\n"
      ]
    },
    {
      "cell_type": "markdown",
      "id": "9ecc2913",
      "metadata": {
        "id": "9ecc2913"
      },
      "source": [
        "### Exercise 6 — Word length dictionary\n",
        "Write a function that takes a sentence and returns a dictionary where keys are words and values are their lengths."
      ]
    },
    {
      "cell_type": "code",
      "execution_count": 6,
      "id": "7c40a1d2",
      "metadata": {
        "colab": {
          "base_uri": "https://localhost:8080/",
          "height": 0
        },
        "id": "7c40a1d2",
        "outputId": "67885f69-7020-43c0-cbed-885332a30205"
      },
      "outputs": [
        {
          "name": "stdout",
          "output_type": "stream",
          "text": [
            "{'I': 1, 'love': 4, 'Python': 6}\n"
          ]
        }
      ],
      "source": [
        "# Your solution here\n",
        "\n",
        "def word_lengths(sentence):\n",
        "    lengths = {}\n",
        "    for w in sentence.split():\n",
        "      lengths[w] = len(w)\n",
        "    return lengths\n",
        "\n",
        "# We make a lengths variable (DICTIONARY) and make it empty\n",
        "# then we split the sentence we are given into words using the split() function\n",
        "# Then we fill the lengths variable with the lengths of these words\n",
        "\n",
        "print(word_lengths(\"I love Python\"))  # {'I': 1, 'love': 4, 'Python': 6}"
      ]
    },
    {
      "cell_type": "markdown",
      "id": "fefa5d2f",
      "metadata": {
        "id": "fefa5d2f"
      },
      "source": [
        "### Exercise 7 — Remove vowels\n",
        "Given a string, return the same string but **without vowels** (`a, e, i, o, u`), ignoring case."
      ]
    },
    {
      "cell_type": "code",
      "execution_count": 11,
      "id": "44c60900",
      "metadata": {
        "colab": {
          "base_uri": "https://localhost:8080/",
          "height": 0
        },
        "id": "44c60900",
        "outputId": "e7efde5e-eec0-4bd8-9a37-3dcd57b1352a"
      },
      "outputs": [
        {
          "name": "stdout",
          "output_type": "stream",
          "text": [
            "Btfl Dy\n"
          ]
        }
      ],
      "source": [
        "# Your solution here\n",
        "\n",
        "def remove_vowels(s):\n",
        "    vowels = 'aAeEiIoOuU'\n",
        "    for i in vowels:\n",
        "      if i in s:\n",
        "        s = s.replace(i, '')\n",
        "    return s\n",
        "    return ''\n",
        "\n",
        "# We go through the vowels list and putting it inside (i) in the for loop\n",
        "# if we find that i(which is the vowel letters one by one) is in the string, we replace it with nothingness\n",
        "# Otherwise, we don't do anything..\n",
        "print(remove_vowels(\"Beautiful Day\"))  # \"Btfl Dy\""
      ]
    },
    {
      "cell_type": "markdown",
      "id": "b5610180",
      "metadata": {
        "id": "b5610180"
      },
      "source": [
        "### Exercise 8 — Palindrome (ignore spaces & case)\n",
        "Write a function that returns `True` if a string is a palindrome when ignoring spaces and case, else `False`."
      ]
    },
    {
      "cell_type": "code",
      "execution_count": 14,
      "id": "48d257e1",
      "metadata": {
        "colab": {
          "base_uri": "https://localhost:8080/",
          "height": 0
        },
        "id": "48d257e1",
        "outputId": "557f4838-f16e-492b-f472-eff9e91a1309"
      },
      "outputs": [
        {
          "name": "stdout",
          "output_type": "stream",
          "text": [
            "True\n",
            "False\n"
          ]
        }
      ],
      "source": [
        "# Your solution here\n",
        "\n",
        "def is_palindrome(s):\n",
        "    s = s.replace(\" \", \"\") # we remove all of the spaces by replacing them with nothingness\n",
        "    s = s.lower() # we turn everything to lowercase cuz python is case sensitive\n",
        "    if s == s[::-1]: # s[::-1] is the word backwards\n",
        "    # does the word s equal backwards s?\n",
        "      return True\n",
        "    return False\n",
        "\n",
        "print(is_palindrome(\"Never odd or even\"))  # True\n",
        "print(is_palindrome(\"Hello\"))              # False"
      ]
    },
    {
      "cell_type": "markdown",
      "id": "acbf52be",
      "metadata": {
        "id": "acbf52be"
      },
      "source": [
        "### Exercise 9 — Character frequency counter\n",
        "Write a function that counts the frequency of each character in a string and returns a dictionary. Ignore case, and include spaces in the count."
      ]
    },
    {
      "cell_type": "code",
      "execution_count": 16,
      "id": "97c971df",
      "metadata": {
        "colab": {
          "base_uri": "https://localhost:8080/",
          "height": 0
        },
        "id": "97c971df",
        "outputId": "82066e11-4a37-4a2a-99ff-9be7a2c4156b"
      },
      "outputs": [
        {
          "name": "stdout",
          "output_type": "stream",
          "text": [
            "{'H': 1, 'e': 1, 'l': 3, 'o': 2, ' ': 1, 'W': 1, 'r': 1, 'd': 1}\n"
          ]
        }
      ],
      "source": [
        "# Your solution here\n",
        "\n",
        "def char_freq(s):\n",
        "    counts = {}\n",
        "    s.lower() # make everything lowercase\n",
        "    for i in s: # for every letter in s\n",
        "      if i in counts: # is the letter in counts? add one to it\n",
        "        counts[i] += 1\n",
        "      else:\n",
        "        counts[i] = 1 # is the letter not in counts? then we just counted one\n",
        "\n",
        "    return counts\n",
        "\n",
        "print(char_freq(\"Hello World\"))"
      ]
    },
    {
      "cell_type": "markdown",
      "id": "lEW_YUtWeMwc",
      "metadata": {
        "id": "lEW_YUtWeMwc"
      },
      "source": [
        "# Bonus (introduction exercises and applied project)\n"
      ]
    },
    {
      "cell_type": "markdown",
      "id": "uiE9l_BPeRK_",
      "metadata": {
        "id": "uiE9l_BPeRK_"
      },
      "source": [
        "## Introduction exercises"
      ]
    },
    {
      "cell_type": "markdown",
      "id": "zUOqgYcceY9y",
      "metadata": {
        "id": "zUOqgYcceY9y"
      },
      "source": [
        "Create a variable temperature and assign it a value of 22. Print the value of temperature to the console.\n",
        "Add a comment explaining what the variable temperature represents"
      ]
    },
    {
      "cell_type": "code",
      "execution_count": 17,
      "id": "Y_7gM-6leQiL",
      "metadata": {
        "colab": {
          "base_uri": "https://localhost:8080/",
          "height": 0
        },
        "id": "Y_7gM-6leQiL",
        "outputId": "e9d4e3db-7c15-4e84-bbcd-248cd1f697a3"
      },
      "outputs": [
        {
          "name": "stdout",
          "output_type": "stream",
          "text": [
            "22\n"
          ]
        }
      ],
      "source": [
        "temperature = 22\n",
        "print(temperature)\n",
        "# The variable of temperatrue represents that temperature, which is 22"
      ]
    },
    {
      "cell_type": "markdown",
      "id": "NuVXa8vrealr",
      "metadata": {
        "id": "NuVXa8vrealr"
      },
      "source": [
        "Create a variable planet_name with the string value \"Earth\" and print it.\n",
        "Also, create an integer variable distance_from_sun with a value of 149600000 (in kilometers) and print it.\n",
        "The output should be: \"The distance between Earth and the Sun is 149600000\" using the 2 variables in one print statement"
      ]
    },
    {
      "cell_type": "code",
      "execution_count": 18,
      "id": "0tKGF0LLef89",
      "metadata": {
        "colab": {
          "base_uri": "https://localhost:8080/",
          "height": 0
        },
        "id": "0tKGF0LLef89",
        "outputId": "b227fdd1-ba6f-4d0a-9524-b37a01a35d07"
      },
      "outputs": [
        {
          "name": "stdout",
          "output_type": "stream",
          "text": [
            "The distance between Earth and the Sun is 149600000\n"
          ]
        }
      ],
      "source": [
        "planet_name = \"Earth\"\n",
        "distance_from_the_sun = 149600000\n",
        "print(\"The distance between\", planet_name,\"and the Sun is\", distance_from_the_sun)"
      ]
    },
    {
      "cell_type": "markdown",
      "id": "B-xZQw2eeiXI",
      "metadata": {
        "id": "B-xZQw2eeiXI"
      },
      "source": [
        "Create a list of countries that are known for space exploration: USA, Russia, China.\n",
        "Also, create a dictionary with a key \"Country\" and a value \"USA\",another key \"Agency\" and value \"NASA\" and print both."
      ]
    },
    {
      "cell_type": "code",
      "execution_count": 22,
      "id": "Ysi0E_kCeyye",
      "metadata": {
        "colab": {
          "base_uri": "https://localhost:8080/",
          "height": 0
        },
        "id": "Ysi0E_kCeyye",
        "outputId": "4efb56e9-79a8-4a52-c5a6-af5f4c856771"
      },
      "outputs": [
        {
          "name": "stdout",
          "output_type": "stream",
          "text": [
            "['USA', 'Russia', 'China', 'ESA', 'India']\n",
            "USA\n",
            "NASA\n"
          ]
        }
      ],
      "source": [
        "space_exploration_countries = ['USA', 'Russia', 'China', 'ESA' , 'India']\n",
        "usa_dict = {\"country\":\"USA\" , \"agency\":\"NASA\"}\n",
        "print(space_exploration_countries)\n",
        "print(usa_dict['country'])\n",
        "print(usa_dict['agency'])"
      ]
    },
    {
      "cell_type": "markdown",
      "id": "rXvQaj0te9HO",
      "metadata": {
        "id": "rXvQaj0te9HO"
      },
      "source": [
        "Calculate the average temperature between two cities, jeddah = 37 and riyadh = 30, and check if the average temperature is above 32."
      ]
    },
    {
      "cell_type": "code",
      "execution_count": 23,
      "id": "buq3NcRafBnM",
      "metadata": {
        "colab": {
          "base_uri": "https://localhost:8080/",
          "height": 0
        },
        "id": "buq3NcRafBnM",
        "outputId": "1993f8ab-7fd0-46cb-891d-08b4b54ce24d"
      },
      "outputs": [
        {
          "name": "stdout",
          "output_type": "stream",
          "text": [
            "True\n"
          ]
        }
      ],
      "source": [
        "jeddah_temperature = 37\n",
        "riyadh_temperature = 30\n",
        "avg_temperatrue = (jeddah_temperature + riyadh_temperature)/2\n",
        "\n",
        "if avg_temperatrue > 32:\n",
        "    print(True)"
      ]
    },
    {
      "cell_type": "markdown",
      "id": "Ysk6CgrifGUj",
      "metadata": {
        "id": "Ysk6CgrifGUj"
      },
      "source": [
        "Write a function calculate_bmi(weight, height) that calculates and returns the BMI (Body Mass Index).\n",
        "Use it to calculate the BMI of a person who weighs 70 kg and has a height of 1.75 meters."
      ]
    },
    {
      "cell_type": "code",
      "execution_count": 24,
      "id": "g22968NffG-1",
      "metadata": {
        "colab": {
          "base_uri": "https://localhost:8080/",
          "height": 0
        },
        "id": "g22968NffG-1",
        "outputId": "f368629d-3b2f-4c3c-e813-64d5c450e144"
      },
      "outputs": [
        {
          "name": "stdout",
          "output_type": "stream",
          "text": [
            "22.857142857142858\n"
          ]
        }
      ],
      "source": [
        "def calculate_bmi(weight, height):\n",
        "  bmi = weight / (height**2)\n",
        "  return bmi\n",
        "\n",
        "print(calculate_bmi(70, 1.75))"
      ]
    },
    {
      "cell_type": "markdown",
      "id": "AYr-oiQyfWnv",
      "metadata": {
        "id": "AYr-oiQyfWnv"
      },
      "source": [
        "Prompt the user to input their weight (in kg) and height (in meters),\n",
        "then calculate and print their BMI using the function from the previous exercise."
      ]
    },
    {
      "cell_type": "code",
      "execution_count": 26,
      "id": "yTgh3NXofYCT",
      "metadata": {
        "colab": {
          "base_uri": "https://localhost:8080/",
          "height": 0
        },
        "id": "yTgh3NXofYCT",
        "outputId": "cf6aab5d-a45c-4984-8e12-5ea407691667"
      },
      "outputs": [
        {
          "name": "stdout",
          "output_type": "stream",
          "text": [
            "Enter your weight in kg: 64\n",
            "Enter your height in meters: 1.73\n",
            "21.383941996057334\n"
          ]
        }
      ],
      "source": [
        "def calculate_bmi(weight, height):\n",
        "  bmi = weight / (height**2)\n",
        "  return bmi\n",
        "\n",
        "weight = float(input(\"Enter your weight in kg: \"))\n",
        "height = float(input(\"Enter your height in meters: \"))\n",
        "print(calculate_bmi(weight, height))"
      ]
    },
    {
      "cell_type": "markdown",
      "id": "56CN3qzvfxr7",
      "metadata": {
        "id": "56CN3qzvfxr7"
      },
      "source": [
        "## Applied Project"
      ]
    },
    {
      "cell_type": "markdown",
      "id": "xrhiMBb3f1Ez",
      "metadata": {
        "id": "xrhiMBb3f1Ez"
      },
      "source": [
        "Your mission is create a \"Student Grading System\" where users can input student names and their grades, calculate average scores, and determine if the student passed or failed based on a set passing score.\n",
        "\n",
        "📚 Student Grading System Features:\n",
        "\n",
        "User Input: Enter student names and their grades.\n",
        "Grade Calculation: The program will calculate the average grade.\n",
        "Pass or Fail Judgment: The program will determine if the student passes or fails based on a passing grade threshold (e.g., 50%).\""
      ]
    },
    {
      "cell_type": "code",
      "execution_count": 41,
      "id": "6X_ZN-Brf0mu",
      "metadata": {
        "colab": {
          "base_uri": "https://localhost:8080/",
          "height": 0
        },
        "id": "6X_ZN-Brf0mu",
        "outputId": "341d0dd5-b0e7-42bf-94cd-147be56521eb"
      },
      "outputs": [
        {
          "name": "stdout",
          "output_type": "stream",
          "text": [
            "Enter your name : Ali\n",
            "Enter your grades seperated by spaces : 49 51 50 49\n",
            "Ali 's result :\n",
            "Failed\n"
          ]
        }
      ],
      "source": [
        "# Student Grading System\n",
        "\n",
        "name = input(\"Enter your name : \")\n",
        "grades = input(\"Enter your grades seperated by spaces : \").split()\n",
        "course_no = len(grades)\n",
        "total = 0\n",
        "\n",
        "for i in grades:\n",
        "  total += int(i)\n",
        "\n",
        "def render_judgement(name, total, course_no):\n",
        "  print(name, \"\"\"'s result :\"\"\")\n",
        "  final_grade = total / len(grades)\n",
        "  if final_grade > 50:\n",
        "    return \"Passed\"\n",
        "  return \"Failed\"\n",
        "\n",
        "print(render_judgement(name, total, course_no))"
      ]
    }
  ],
  "metadata": {
    "colab": {
      "provenance": []
    },
    "kernelspec": {
      "display_name": "base",
      "language": "python",
      "name": "python3"
    },
    "language_info": {
      "codemirror_mode": {
        "name": "ipython",
        "version": 3
      },
      "file_extension": ".py",
      "mimetype": "text/x-python",
      "name": "python",
      "nbconvert_exporter": "python",
      "pygments_lexer": "ipython3",
      "version": "3.12.7"
    }
  },
  "nbformat": 4,
  "nbformat_minor": 5
}
